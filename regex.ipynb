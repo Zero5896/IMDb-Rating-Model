{
 "cells": [
  {
   "cell_type": "code",
   "execution_count": 45,
   "metadata": {},
   "outputs": [],
   "source": [
    "import re"
   ]
  },
  {
   "cell_type": "code",
   "execution_count": 46,
   "metadata": {},
   "outputs": [],
   "source": [
    "text = \"Luffy used Gear 2, Gear 3, and Gear 4 in his fight with Kaido. Finally, he unlocked Gear 5.\"\n"
   ]
  },
  {
   "cell_type": "code",
   "execution_count": 47,
   "metadata": {},
   "outputs": [
    {
     "name": "stdout",
     "output_type": "stream",
     "text": [
      "['Gear 2', 'Gear 3', 'Gear 4', 'Gear 5']\n"
     ]
    }
   ],
   "source": [
    "# Our regex pattern to match \"Gear\" followed by a digit\n",
    "pattern = r\"Gear \\d\"\n",
    "\n",
    "# Apply the pattern to the text\n",
    "matches = re.findall(pattern, text)\n",
    "\n",
    "# Print all matches\n",
    "print(matches)"
   ]
  },
  {
   "cell_type": "code",
   "execution_count": 48,
   "metadata": {},
   "outputs": [],
   "source": [
    "text = \"Luffy: 1,500,000,000 Berries, Zoro: 320,000,000 Berries, Sanji: 330,000,000 Berries, Nami: 66,000,000 Berries.\"\n"
   ]
  },
  {
   "cell_type": "code",
   "execution_count": 49,
   "metadata": {},
   "outputs": [
    {
     "name": "stdout",
     "output_type": "stream",
     "text": [
      "['500,000,000 Berries', '320,000,000 Berries', '330,000,000 Berries', '66,000,000 Berries']\n"
     ]
    }
   ],
   "source": [
    "# Our regex pattern to match the bounty format\n",
    "pattern = r\"\\d{1,3},\\d{3},\\d{3} Berries\"\n",
    "\n",
    "# Apply the pattern to the text\n",
    "matches = re.findall(pattern, text)\n",
    "\n",
    "# Print all matches\n",
    "print(matches)"
   ]
  },
  {
   "cell_type": "code",
   "execution_count": 50,
   "metadata": {},
   "outputs": [],
   "source": [
    "text = \"Luffy has the Gomu Gomu no Mi, Blackbeard has the Yami Yami no Mi, and Doflamingo has the Ito Ito no Mi.\"\n"
   ]
  },
  {
   "cell_type": "code",
   "execution_count": 51,
   "metadata": {},
   "outputs": [
    {
     "name": "stdout",
     "output_type": "stream",
     "text": [
      "['Gomu Gomu no Mi', 'Yami Yami no Mi', 'Ito Ito no Mi']\n"
     ]
    }
   ],
   "source": [
    "# Our regex pattern to match Devil Fruit names\n",
    "pattern = r\"\\w+ \\w+ no Mi\"\n",
    "\n",
    "# Apply the pattern to the text\n",
    "matches = re.findall(pattern, text)\n",
    "\n",
    "# Print all matches\n",
    "print(matches)"
   ]
  },
  {
   "cell_type": "code",
   "execution_count": 52,
   "metadata": {},
   "outputs": [],
   "source": [
    "text = \"Luffy, Zoro, Nami, Usopp, Sanji, Chopper, Robin.\"\n"
   ]
  },
  {
   "cell_type": "code",
   "execution_count": 53,
   "metadata": {},
   "outputs": [
    {
     "name": "stdout",
     "output_type": "stream",
     "text": [
      "['Luffy', 'Zoro', 'Nami', 'Usopp', 'Sanji', 'Chopper', 'Robin']\n"
     ]
    }
   ],
   "source": [
    "# Regex to match \"Gear\", \"Gaar\", or \"Goor\"\n",
    "pattern = r\"\\b\\w*[aeiou]\\w*\\b\"\n",
    "\n",
    "\n",
    "\n",
    "# Find all occurrences of the pattern\n",
    "matches = re.findall(pattern, text)\n",
    "\n",
    "# Print the matches\n",
    "print(matches)"
   ]
  },
  {
   "cell_type": "code",
   "execution_count": 54,
   "metadata": {},
   "outputs": [],
   "source": [
    "text = \"Luffy, Chopper, and Brook fought Kaido in Onigashima.\"\n"
   ]
  },
  {
   "cell_type": "code",
   "execution_count": 55,
   "metadata": {},
   "outputs": [
    {
     "name": "stdout",
     "output_type": "stream",
     "text": [
      "['Luffy']\n"
     ]
    }
   ],
   "source": [
    "# Regex to match \"Gear\", \"Gaar\", or \"Goor\"\n",
    "pattern = r\"\\b\\w*y\\b\"\n",
    "\n",
    "\n",
    "# Find all occurrences of the pattern\n",
    "matches = re.findall(pattern, text)\n",
    "\n",
    "# Print the matches\n",
    "print(matches)"
   ]
  },
  {
   "cell_type": "code",
   "execution_count": null,
   "metadata": {},
   "outputs": [],
   "source": []
  }
 ],
 "metadata": {
  "kernelspec": {
   "display_name": "Python 3",
   "language": "python",
   "name": "python3"
  },
  "language_info": {
   "codemirror_mode": {
    "name": "ipython",
    "version": 3
   },
   "file_extension": ".py",
   "mimetype": "text/x-python",
   "name": "python",
   "nbconvert_exporter": "python",
   "pygments_lexer": "ipython3",
   "version": "3.12.0"
  }
 },
 "nbformat": 4,
 "nbformat_minor": 2
}
